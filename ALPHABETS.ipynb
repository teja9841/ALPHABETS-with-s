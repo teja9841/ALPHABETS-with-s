{
 "cells": [
  {
   "cell_type": "code",
   "execution_count": 1,
   "id": "e71384f6",
   "metadata": {},
   "outputs": [],
   "source": [
    "# Creating Alphabets using '*' from A to Z in upper case."
   ]
  },
  {
   "cell_type": "code",
   "execution_count": 22,
   "id": "5b888b7c",
   "metadata": {},
   "outputs": [
    {
     "name": "stdout",
     "output_type": "stream",
     "text": [
      "  *  \n",
      " * * \n",
      "*****\n",
      "*   *\n",
      "*   *\n"
     ]
    }
   ],
   "source": [
    "x=1\n",
    "while x<=5:\n",
    "    if x==1:\n",
    "        print('  *  ')\n",
    "    elif x==2:\n",
    "        print(' * * ')\n",
    "    elif x==3:\n",
    "        print('*****')\n",
    "    elif x==4:\n",
    "        print('*   *')\n",
    "    elif x==5:\n",
    "        print('*   *')\n",
    "    x+=1"
   ]
  },
  {
   "cell_type": "code",
   "execution_count": 23,
   "id": "5fa17b7d",
   "metadata": {},
   "outputs": [
    {
     "name": "stdout",
     "output_type": "stream",
     "text": [
      "****\n",
      "*   *\n",
      "* **\n",
      "*   *\n",
      "****\n"
     ]
    }
   ],
   "source": [
    "x=1\n",
    "while x<=5:\n",
    "    if x==1:\n",
    "        print('****')\n",
    "    elif x==2:\n",
    "        print('*   *')\n",
    "    elif x==3:\n",
    "        print('* **')\n",
    "    elif x==4:\n",
    "        print('*   *')\n",
    "    elif x==5:\n",
    "        print('****')\n",
    "    x+=1"
   ]
  },
  {
   "cell_type": "code",
   "execution_count": 24,
   "id": "f9ca44b9",
   "metadata": {},
   "outputs": [
    {
     "name": "stdout",
     "output_type": "stream",
     "text": [
      " ****\n",
      "*\n",
      "*\n",
      "*\n",
      " ****\n"
     ]
    }
   ],
   "source": [
    "x=1\n",
    "while x<=5:\n",
    "    if x==1:\n",
    "        print(' ****')\n",
    "    elif x==2:\n",
    "        print('*')\n",
    "    elif x==3:\n",
    "        print('*')\n",
    "    elif x==4:\n",
    "        print('*')\n",
    "    elif x==5:\n",
    "        print(' ****')\n",
    "    x+=1"
   ]
  },
  {
   "cell_type": "code",
   "execution_count": 25,
   "id": "a297edfd",
   "metadata": {},
   "outputs": [
    {
     "name": "stdout",
     "output_type": "stream",
     "text": [
      "****\n",
      "*   *\n",
      "*   *\n",
      "*   *\n",
      "****\n"
     ]
    }
   ],
   "source": [
    "x=1\n",
    "while x<=5:\n",
    "    if x==1:\n",
    "        print('****')\n",
    "    elif x==2:\n",
    "        print('*   *')\n",
    "    elif x==3:\n",
    "        print('*   *')\n",
    "    elif x==4:\n",
    "        print('*   *')\n",
    "    elif x==5:\n",
    "        print('****')\n",
    "    x+=1"
   ]
  },
  {
   "cell_type": "code",
   "execution_count": 26,
   "id": "72431e9a",
   "metadata": {},
   "outputs": [
    {
     "name": "stdout",
     "output_type": "stream",
     "text": [
      " ****\n",
      "*\n",
      "*****\n",
      "*\n",
      " ****\n"
     ]
    }
   ],
   "source": [
    "x=1\n",
    "while x<=5:\n",
    "    if x==1:\n",
    "        print(' ****')\n",
    "    elif x==2:\n",
    "        print('*')\n",
    "    elif x==3:\n",
    "        print('*****')\n",
    "    elif x==4:\n",
    "        print('*')\n",
    "    elif x==5:\n",
    "        print(' ****')\n",
    "    x+=1"
   ]
  },
  {
   "cell_type": "code",
   "execution_count": 27,
   "id": "389e1cf5",
   "metadata": {},
   "outputs": [
    {
     "name": "stdout",
     "output_type": "stream",
     "text": [
      " ***\n",
      " *\n",
      "****\n",
      " *\n",
      " *\n"
     ]
    }
   ],
   "source": [
    "x=1\n",
    "while x<=5:\n",
    "    if x==1:\n",
    "        print(' ***')\n",
    "    elif x==2:\n",
    "        print(' *')\n",
    "    elif x==3:\n",
    "        print('****')\n",
    "    elif x==4:\n",
    "        print(' *')\n",
    "    elif x==5:\n",
    "        print(' *')\n",
    "    x+=1"
   ]
  },
  {
   "cell_type": "code",
   "execution_count": 28,
   "id": "662ab2c7",
   "metadata": {},
   "outputs": [
    {
     "name": "stdout",
     "output_type": "stream",
     "text": [
      " ****\n",
      "*\n",
      "* ***\n",
      "*   *\n",
      " ****\n"
     ]
    }
   ],
   "source": [
    "x=1\n",
    "while x<=5:\n",
    "    if x==1:\n",
    "        print(' ****')\n",
    "    elif x==2:\n",
    "        print('*')\n",
    "    elif x==3:\n",
    "        print('* ***')\n",
    "    elif x==4:\n",
    "        print('*   *')\n",
    "    elif x==5:\n",
    "        print(' ****')\n",
    "    x+=1"
   ]
  },
  {
   "cell_type": "code",
   "execution_count": 29,
   "id": "d372555b",
   "metadata": {},
   "outputs": [
    {
     "name": "stdout",
     "output_type": "stream",
     "text": [
      "*   *\n",
      "*   *\n",
      "*****\n",
      "*   *\n",
      "*   *\n"
     ]
    }
   ],
   "source": [
    "x=1\n",
    "while x<=5:\n",
    "    if x==1:\n",
    "        print('*   *')\n",
    "    elif x==2:\n",
    "        print('*   *')\n",
    "    elif x==3:\n",
    "        print('*****')\n",
    "    elif x==4:\n",
    "        print('*   *')\n",
    "    elif x==5:\n",
    "        print('*   *')\n",
    "    x+=1"
   ]
  },
  {
   "cell_type": "code",
   "execution_count": 30,
   "id": "c98a4d2b",
   "metadata": {},
   "outputs": [
    {
     "name": "stdout",
     "output_type": "stream",
     "text": [
      " *** \n",
      "  *  \n",
      "  *  \n",
      "  *  \n",
      " *** \n"
     ]
    }
   ],
   "source": [
    "x=1\n",
    "while x<=5:\n",
    "    if x==1:\n",
    "        print(' *** ')\n",
    "    elif x==2:\n",
    "        print('  *  ')\n",
    "    elif x==3:\n",
    "        print('  *  ')\n",
    "    elif x==4:\n",
    "        print('  *  ')\n",
    "    elif x==5:\n",
    "        print(' *** ')\n",
    "    x+=1"
   ]
  },
  {
   "cell_type": "code",
   "execution_count": 31,
   "id": "707607ba",
   "metadata": {},
   "outputs": [
    {
     "name": "stdout",
     "output_type": "stream",
     "text": [
      "*****\n",
      "  *\n",
      "  *\n",
      "  *\n",
      "**\n"
     ]
    }
   ],
   "source": [
    "x=1\n",
    "while x<=6:\n",
    "    if x==1:\n",
    "        print('*****')\n",
    "    elif x==2:\n",
    "        print('  *')\n",
    "    elif x==3:\n",
    "        print('  *')\n",
    "    elif x==4:\n",
    "        print('  *')\n",
    "    elif x==5:\n",
    "        print('**')\n",
    "    x+=1"
   ]
  },
  {
   "cell_type": "code",
   "execution_count": 32,
   "id": "fb6fdf5d",
   "metadata": {},
   "outputs": [
    {
     "name": "stdout",
     "output_type": "stream",
     "text": [
      " *  *\n",
      " * *\n",
      " **\n",
      " * *\n",
      " *  *\n"
     ]
    }
   ],
   "source": [
    "x=1\n",
    "while x<=5:\n",
    "    if x==1:\n",
    "        print(' *  *')\n",
    "    elif x==2:\n",
    "        print(' * *')\n",
    "    elif x==3:\n",
    "        print(' **')\n",
    "    elif x==4:\n",
    "        print(' * *')\n",
    "    elif x==5:\n",
    "        print(' *  *')\n",
    "    x+=1"
   ]
  },
  {
   "cell_type": "code",
   "execution_count": 33,
   "id": "a6ad78b7",
   "metadata": {},
   "outputs": [
    {
     "name": "stdout",
     "output_type": "stream",
     "text": [
      "*\n",
      "*\n",
      "*\n",
      "*\n",
      "** * *\n"
     ]
    }
   ],
   "source": [
    "x=1\n",
    "while x<=5:\n",
    "    if x==1:\n",
    "        print('*')\n",
    "    elif x==2:\n",
    "        print('*')\n",
    "    elif x==3:\n",
    "        print('*')\n",
    "    elif x==4:\n",
    "        print('*')\n",
    "    elif x==5:\n",
    "        print('** * *')\n",
    "    x+=1"
   ]
  },
  {
   "cell_type": "code",
   "execution_count": 34,
   "id": "ea80d148",
   "metadata": {},
   "outputs": [
    {
     "name": "stdout",
     "output_type": "stream",
     "text": [
      "*     *\n",
      "*  *  *\n",
      "*     *\n",
      "*     *\n",
      "*     *\n"
     ]
    }
   ],
   "source": [
    "x=1\n",
    "while x<=5:\n",
    "    if x==1:\n",
    "        print('*     *')\n",
    "    elif x==2:\n",
    "        print('*  *  *')\n",
    "    elif x==3:\n",
    "        print('*     *')\n",
    "    elif x==4:\n",
    "        print('*     *')\n",
    "    elif x==5:\n",
    "        print('*     *')\n",
    "    x+=1"
   ]
  },
  {
   "cell_type": "code",
   "execution_count": 35,
   "id": "7020300f",
   "metadata": {},
   "outputs": [
    {
     "name": "stdout",
     "output_type": "stream",
     "text": [
      "*   *\n",
      "**  *\n",
      "* * *\n",
      "*  **\n",
      "*   *\n"
     ]
    }
   ],
   "source": [
    "x=1\n",
    "while x<=5:\n",
    "    if x==1:\n",
    "        print('*   *')\n",
    "    elif x==2:\n",
    "        print('**  *')\n",
    "    elif x==3:\n",
    "        print('* * *')\n",
    "    elif x==4:\n",
    "        print('*  **')\n",
    "    elif x==5:\n",
    "        print('*   *')\n",
    "    x+=1"
   ]
  },
  {
   "cell_type": "code",
   "execution_count": 36,
   "id": "136f9215",
   "metadata": {},
   "outputs": [
    {
     "name": "stdout",
     "output_type": "stream",
     "text": [
      " *** \n",
      "*   *\n",
      "*   *\n",
      "*   *\n",
      " *** \n"
     ]
    }
   ],
   "source": [
    "x=1\n",
    "while x<=5:\n",
    "    if x==1:\n",
    "        print(' *** ')\n",
    "    elif x==2:\n",
    "        print('*   *')\n",
    "    elif x==3:\n",
    "        print('*   *')\n",
    "    elif x==4:\n",
    "        print('*   *')\n",
    "    elif x==5:\n",
    "        print(' *** ')\n",
    "    x+=1"
   ]
  },
  {
   "cell_type": "code",
   "execution_count": 37,
   "id": "01664faf",
   "metadata": {},
   "outputs": [
    {
     "name": "stdout",
     "output_type": "stream",
     "text": [
      "****\n",
      "*   *\n",
      "*   *\n",
      "****\n",
      "*\n",
      "*\n",
      "*\n"
     ]
    }
   ],
   "source": [
    "x=1\n",
    "while x<=7:\n",
    "    if x==1:\n",
    "        print('****')\n",
    "    elif x==2:\n",
    "        print('*   *')\n",
    "    elif x==3:\n",
    "        print('*   *')\n",
    "    elif x==4:\n",
    "        print('****')\n",
    "    elif x==5:\n",
    "        print('*')\n",
    "    elif x==6:\n",
    "        print('*')\n",
    "    elif x==7:\n",
    "        print('*')\n",
    "    x+=1"
   ]
  },
  {
   "cell_type": "code",
   "execution_count": 38,
   "id": "1a7a020f",
   "metadata": {},
   "outputs": [
    {
     "name": "stdout",
     "output_type": "stream",
     "text": [
      " *** \n",
      "*   *\n",
      "* * *\n",
      " *** \n",
      "    *\n"
     ]
    }
   ],
   "source": [
    "x=1\n",
    "while x<=5:\n",
    "    if x==1:\n",
    "        print(' *** ')\n",
    "    elif x==2:\n",
    "        print('*   *')\n",
    "    elif x==3:\n",
    "        print('* * *')\n",
    "    elif x==4:\n",
    "        print(' *** ')\n",
    "    elif x==5:\n",
    "        print('    *')\n",
    "    x+=1"
   ]
  },
  {
   "cell_type": "code",
   "execution_count": 39,
   "id": "9a5e7b45",
   "metadata": {},
   "outputs": [
    {
     "name": "stdout",
     "output_type": "stream",
     "text": [
      "****\n",
      "*   *\n",
      "*   *\n",
      "****\n",
      "**\n",
      "* *\n",
      "*  *\n"
     ]
    }
   ],
   "source": [
    "x=1\n",
    "while x<=7:\n",
    "    if x==1:\n",
    "        print('****')\n",
    "    elif x==2:\n",
    "        print('*   *')\n",
    "    elif x==3:\n",
    "        print('*   *')\n",
    "    elif x==4:\n",
    "        print('****')\n",
    "    elif x==5:\n",
    "        print('**')\n",
    "    elif x==6:\n",
    "        print('* *')\n",
    "    elif x==7:\n",
    "        print('*  *')\n",
    "    x+=1"
   ]
  },
  {
   "cell_type": "code",
   "execution_count": 40,
   "id": "bf7036ba",
   "metadata": {},
   "outputs": [
    {
     "name": "stdout",
     "output_type": "stream",
     "text": [
      " *  *\n",
      "*\n",
      "*\n",
      " ***\n",
      "    *\n",
      "    *\n",
      "* *\n"
     ]
    }
   ],
   "source": [
    "x=1\n",
    "while x<=7:\n",
    "    if x==1:\n",
    "        print(' *  *')\n",
    "    elif x==2:\n",
    "        print('*')\n",
    "    elif x==3:\n",
    "        print('*')\n",
    "    elif x==4:\n",
    "        print(' ***')\n",
    "    elif x==5:\n",
    "        print('    *')\n",
    "    elif x==6:\n",
    "        print('    *')\n",
    "    elif x==7:\n",
    "        print('* *')\n",
    "    x+=1"
   ]
  },
  {
   "cell_type": "code",
   "execution_count": 41,
   "id": "c7260009",
   "metadata": {},
   "outputs": [
    {
     "name": "stdout",
     "output_type": "stream",
     "text": [
      "*****\n",
      "  *\n",
      "  *\n",
      "  *\n",
      "  *\n"
     ]
    }
   ],
   "source": [
    "x=1\n",
    "while x<=2:\n",
    "    if x==1:\n",
    "        print('*****')\n",
    "    elif x==2:\n",
    "        print('  *\\n  *\\n  *\\n  *')\n",
    "    x+=1"
   ]
  },
  {
   "cell_type": "code",
   "execution_count": 42,
   "id": "1a0e2ea0",
   "metadata": {},
   "outputs": [
    {
     "name": "stdout",
     "output_type": "stream",
     "text": [
      "*   *\n",
      "*   *\n",
      "*   *\n",
      "*   *\n",
      " *** \n"
     ]
    }
   ],
   "source": [
    "x=1\n",
    "while x<=5:\n",
    "    if x==1:\n",
    "        print('*   *')\n",
    "    elif x==2:\n",
    "        print('*   *')\n",
    "    elif x==3:\n",
    "        print('*   *')\n",
    "    elif x==4:\n",
    "        print('*   *')\n",
    "    elif x==5:\n",
    "        print(' *** ')\n",
    "    x+=1"
   ]
  },
  {
   "cell_type": "code",
   "execution_count": 43,
   "id": "d3f0e840",
   "metadata": {},
   "outputs": [
    {
     "name": "stdout",
     "output_type": "stream",
     "text": [
      "*   *\n",
      "*   *\n",
      "*   *\n",
      "*   *\n",
      "  *\n"
     ]
    }
   ],
   "source": [
    "x=1\n",
    "while x<=5:\n",
    "    if x==1:\n",
    "        print('*   *')\n",
    "    elif x==2:\n",
    "        print('*   *')\n",
    "    elif x==3:\n",
    "        print('*   *')\n",
    "    elif x==4:\n",
    "        print('*   *')\n",
    "    elif x==5:\n",
    "        print('  *')\n",
    "    x+=1"
   ]
  },
  {
   "cell_type": "code",
   "execution_count": 44,
   "id": "257a0fe8",
   "metadata": {},
   "outputs": [
    {
     "name": "stdout",
     "output_type": "stream",
     "text": [
      "*     *\n",
      "*     *\n",
      "*  *  *\n",
      "**   **\n",
      "*     *\n"
     ]
    }
   ],
   "source": [
    "x=1\n",
    "while x<=5:\n",
    "    if x==1:\n",
    "        print('*     *')\n",
    "    elif x==2:\n",
    "        print('*     *')\n",
    "    elif x==3:\n",
    "        print('*  *  *')\n",
    "    elif x==4:\n",
    "        print('**   **')\n",
    "    elif x==5:\n",
    "        print('*     *')\n",
    "    x+=1"
   ]
  },
  {
   "cell_type": "code",
   "execution_count": 45,
   "id": "a468d3df",
   "metadata": {},
   "outputs": [
    {
     "name": "stdout",
     "output_type": "stream",
     "text": [
      "*   *\n",
      " * * \n",
      "  *  \n",
      " * * \n",
      "*   *\n"
     ]
    }
   ],
   "source": [
    "x=1\n",
    "while x<=5:\n",
    "    if x==1:\n",
    "        print('*   *')\n",
    "    elif x==2:\n",
    "        print(' * * ')\n",
    "    elif x==3:\n",
    "        print('  *  ')\n",
    "    elif x==4:\n",
    "        print(' * * ')\n",
    "    elif x==5:\n",
    "        print('*   *')\n",
    "    x+=1"
   ]
  },
  {
   "cell_type": "code",
   "execution_count": 46,
   "id": "793ceb75",
   "metadata": {},
   "outputs": [
    {
     "name": "stdout",
     "output_type": "stream",
     "text": [
      "*   *\n",
      " * * \n",
      "  *  \n",
      " *   \n",
      "*    \n"
     ]
    }
   ],
   "source": [
    "x=1\n",
    "while x<=5:\n",
    "    if x==1:\n",
    "        print('*   *')\n",
    "    elif x==2:\n",
    "        print(' * * ')\n",
    "    elif x==3:\n",
    "        print('  *  ')\n",
    "    elif x==4:\n",
    "        print(' *   ')\n",
    "    elif x==5:\n",
    "        print('*    ')\n",
    "    x+=1"
   ]
  },
  {
   "cell_type": "code",
   "execution_count": 47,
   "id": "833580b6",
   "metadata": {},
   "outputs": [
    {
     "name": "stdout",
     "output_type": "stream",
     "text": [
      "*****\n",
      "   *\n",
      "  *  \n",
      " *\n",
      "*****\n"
     ]
    }
   ],
   "source": [
    "x=1\n",
    "while x<=5:\n",
    "    if x==1:\n",
    "        print('*****')\n",
    "    elif x==2:\n",
    "        print('   *')\n",
    "    elif x==3:\n",
    "        print('  *  ')\n",
    "    elif x==4:\n",
    "        print(' *')\n",
    "    elif x==5:\n",
    "        print('*****')\n",
    "    x+=1"
   ]
  },
  {
   "cell_type": "code",
   "execution_count": null,
   "id": "2a3e39e8",
   "metadata": {},
   "outputs": [],
   "source": []
  }
 ],
 "metadata": {
  "kernelspec": {
   "display_name": "Python 3 (ipykernel)",
   "language": "python",
   "name": "python3"
  },
  "language_info": {
   "codemirror_mode": {
    "name": "ipython",
    "version": 3
   },
   "file_extension": ".py",
   "mimetype": "text/x-python",
   "name": "python",
   "nbconvert_exporter": "python",
   "pygments_lexer": "ipython3",
   "version": "3.9.7"
  }
 },
 "nbformat": 4,
 "nbformat_minor": 5
}
